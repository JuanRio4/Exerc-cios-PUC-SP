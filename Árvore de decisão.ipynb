{
  "cells": [
    {
      "cell_type": "markdown",
      "metadata": {
        "id": "MJL7PlSCwyKs"
      },
      "source": [
        "Pontifícia Universidade Católica de São Paulo \n",
        "\n",
        "`Ciência de Dados e Inteligência Artificial`\n",
        "\n",
        "🎓 Laboratório - Árvore de decisão\n",
        "\n",
        "---\n",
        "> 👨‍🏫*Professor Dr. Rooney Coelho (rracoelho@pucsp.br)*\n",
        "---"
      ]
    },
    {
      "cell_type": "markdown",
      "metadata": {
        "id": "FG69xeBGnLAS"
      },
      "source": [
        "### Sobre o exercício\n",
        "Neste exercício de laboratório, você aprenderá um algoritmo popular de aprendizado de máquina, a árvore de decisão. \n",
        "\n",
        "Você usará este algoritmo de classificação para construir um modelo a partir de dados históricos de pacientes e sua resposta a diferentes medicamentos. \n",
        "\n",
        "Em seguida, você usa a árvore de decisão treinada para prever a classe de um paciente desconhecido ou para encontrar um medicamento adequado para um novo paciente.\n",
        "\n",
        "### Sobre o Dataset\n",
        "Imagine que você seja um pesquisador médico compilando dados para um estudo. Você coletou dados sobre um conjunto de pacientes, todos com a mesma doença. Durante o curso do tratamento, cada paciente respondeu a um dos 5 medicamentos, medicamento A, medicamento B, medicamento c, medicamento X e Y.\n",
        "\n",
        "Parte do seu trabalho é construir um modelo para descobrir qual medicamento pode ser apropriado para um futuro paciente com a mesma doença. Os conjuntos de recursos desse conjunto de dados são idade, sexo, pressão arterial e colesterol dos pacientes, e o alvo é o medicamento ao qual cada paciente respondeu.\n",
        "\n",
        "É um exemplo de classificador binário e você pode usá-lo para construir uma árvore de decisão e, em seguida, usá-la para prever a classe de um paciente desconhecido ou prescrevê-la para um novo paciente."
      ]
    },
    {
      "cell_type": "markdown",
      "metadata": {
        "id": "oonYnfFWnz4G"
      },
      "source": [
        "## Importação dos dados"
      ]
    },
    {
      "cell_type": "code",
      "execution_count": null,
      "metadata": {
        "id": "dp_ixU88awxR"
      },
      "outputs": [],
      "source": [
        "from sklearn.tree import DecisionTreeClassifier\n",
        "from sklearn import tree\n",
        "import pandas as pd\n",
        "\n",
        "import matplotlib.pyplot as plt\n",
        "import numpy as np"
      ]
    },
    {
      "cell_type": "markdown",
      "metadata": {
        "id": "gcHmkRewn37v"
      },
      "source": [
        "1) Importe o dataset usando o pandas:"
      ]
    },
    {
      "cell_type": "code",
      "execution_count": null,
      "metadata": {},
      "outputs": [],
      "source": [
        "url = 'https://s3-api.us-geo.objectstorage.softlayer.net/cf-courses-data/CognitiveClass/ML0101ENv3/labs/drug200.csv'\n",
        "df = pd.read_csv(url)\n",
        "df"
      ]
    },
    {
      "cell_type": "markdown",
      "metadata": {
        "id": "5LtLVJbLoR6w"
      },
      "source": [
        "Confira se a importação foi bem sucedida ao executar o método `head()`. "
      ]
    },
    {
      "cell_type": "code",
      "execution_count": null,
      "metadata": {
        "colab": {
          "base_uri": "https://localhost:8080/",
          "height": 204
        },
        "id": "FZN6MgD8oalG",
        "outputId": "891f2f79-ee58-4672-f882-3ae20ca66007"
      },
      "outputs": [],
      "source": []
    },
    {
      "cell_type": "markdown",
      "metadata": {
        "id": "lcUV_g20b9bH"
      },
      "source": [
        "## Pré-processamento\n",
        "\n",
        "Declare duas variáveis:\n",
        "* `X` para as features\n",
        "* `y` para o target (`Drug`)\n",
        "\n",
        "2) Preencha o bloco abaixo com um Dataframe para as features somente"
      ]
    },
    {
      "cell_type": "code",
      "execution_count": null,
      "metadata": {
        "id": "U3P7NMwncACF"
      },
      "outputs": [],
      "source": []
    },
    {
      "cell_type": "markdown",
      "metadata": {
        "id": "Y6t26_PSpF6b"
      },
      "source": [
        "3) Preencha o bloco abaixo para o target. Use a estrutura Dataset do Pandas para isso"
      ]
    },
    {
      "cell_type": "code",
      "execution_count": null,
      "metadata": {
        "id": "zHe71qhsdMhQ"
      },
      "outputs": [],
      "source": []
    },
    {
      "cell_type": "markdown",
      "metadata": {
        "id": "7Dq0JBLgpWpf"
      },
      "source": [
        "4) Como temos dados categóricos, é necessário que você transforme seus valores em fatores. Use o método `factorize()` do Pandas para isso. Lembre-se que isso te retornará dois argumentos.\n",
        "\n",
        "*Obs: faça uma pesquisa sobre como fatorizar todas as colunas categóricas. A intenção dessas atividades também é que você tenha facilidade em realizar esse tipo de pesquisa.*"
      ]
    },
    {
      "cell_type": "code",
      "execution_count": null,
      "metadata": {},
      "outputs": [],
      "source": []
    },
    {
      "cell_type": "markdown",
      "metadata": {
        "id": "KjCyasCYrCau"
      },
      "source": [
        "## Criação do modelo\n",
        "\n",
        "Agora que você já converteu as features em valores numéricos (Com excessão da idade e Na_to_K), faça o que se pede.\n",
        "\n",
        "\n",
        "5) Crie um classificador árvore de decisão e use o argumento `entropy` para o parâmetro `criterion`. Use o parâmetro `max_depth` igual a 4."
      ]
    },
    {
      "cell_type": "code",
      "execution_count": null,
      "metadata": {
        "id": "UtyYj5JTd1NK"
      },
      "outputs": [],
      "source": [
        "# Criar o modelo\n"
      ]
    },
    {
      "cell_type": "markdown",
      "metadata": {
        "id": "ubjGVwJ2ruoj"
      },
      "source": [
        "6) Treine sua árvore de decisão com a integralidade dos dados."
      ]
    },
    {
      "cell_type": "code",
      "execution_count": null,
      "metadata": {
        "id": "MFPi6MUVrsbx"
      },
      "outputs": [],
      "source": [
        "# Treinar o modelo\n"
      ]
    },
    {
      "cell_type": "markdown",
      "metadata": {
        "id": "37XeohZ7r_kO"
      },
      "source": [
        "7) Gere um gráfico através do método `plot_tree` use nosso exemplo de sala para se basear (olhem o caderno enviado para vocês)."
      ]
    },
    {
      "cell_type": "code",
      "execution_count": null,
      "metadata": {
        "colab": {
          "base_uri": "https://localhost:8080/",
          "height": 1000
        },
        "id": "wT29verCe8A4",
        "outputId": "59b13ffe-15d8-4b09-e466-d753aebad687"
      },
      "outputs": [],
      "source": [
        "# Gera a figura"
      ]
    },
    {
      "cell_type": "markdown",
      "metadata": {
        "id": "KquzVGdVswH6"
      },
      "source": [
        "8) Use a árvore de decisão para me indicar (método `predict`) qual remédio tomar:\n",
        "\n",
        "**Paciente:** \n",
        "Rooney Coelho\n",
        "* Age: 32\n",
        "* Sexo: M\n",
        "* BP: NORMAL\n",
        "* Cholesterol: NORMAL\n",
        "* Na_to_K: 12\n",
        "\n",
        "*Obs: Não me passe o medicamento errado!*"
      ]
    },
    {
      "cell_type": "code",
      "execution_count": null,
      "metadata": {
        "colab": {
          "base_uri": "https://localhost:8080/"
        },
        "id": "NV97lHUugOfd",
        "outputId": "e0a5e925-32e4-4da8-9bfe-9305d22b62ea"
      },
      "outputs": [],
      "source": []
    },
    {
      "cell_type": "markdown",
      "metadata": {
        "id": "JzgptOZLmg2I"
      },
      "source": [
        "9) Qual a feature mais importante para a árvore? Eu acho que é o sexo. Estou correto? Use o método `feature_importances_` para justificar seu ponto."
      ]
    },
    {
      "cell_type": "code",
      "execution_count": null,
      "metadata": {
        "colab": {
          "base_uri": "https://localhost:8080/"
        },
        "id": "kUkuIV2Th0SY",
        "outputId": "e6fbefdf-693b-4e2c-9162-e7fb0a7baa3d"
      },
      "outputs": [],
      "source": []
    },
    {
      "cell_type": "markdown",
      "metadata": {
        "id": "uteCPbcBh5_s"
      },
      "source": [
        "## Segmentação dos dados e Validação do modelo"
      ]
    },
    {
      "cell_type": "code",
      "execution_count": null,
      "metadata": {
        "id": "U1t8MVk6h-Tb"
      },
      "outputs": [],
      "source": [
        "from sklearn.model_selection import train_test_split"
      ]
    },
    {
      "cell_type": "markdown",
      "metadata": {
        "id": "30Zpu5tPuKFA"
      },
      "source": [
        "10) Particione os dados em X_test e X_tran para as features e y_train e y_test para os targets. Use a proporção padrão do método `train_test_split` para isso."
      ]
    },
    {
      "cell_type": "code",
      "execution_count": null,
      "metadata": {
        "id": "EIKwOVswh_Qm"
      },
      "outputs": [],
      "source": []
    },
    {
      "cell_type": "markdown",
      "metadata": {
        "id": "H3mmdD4lud3Q"
      },
      "source": [
        "11) Confira se a quantidade de linhas dos dados para teste e validação são iguais à dos dados antes da particão."
      ]
    },
    {
      "cell_type": "code",
      "execution_count": null,
      "metadata": {
        "colab": {
          "base_uri": "https://localhost:8080/"
        },
        "id": "PayPKr6MiRCx",
        "outputId": "a65caf85-76b7-468a-e6ec-5d1a27aeb67d"
      },
      "outputs": [],
      "source": []
    },
    {
      "cell_type": "markdown",
      "metadata": {
        "id": "STR9saU_vM06"
      },
      "source": [
        "12) Treine o modelo com a partição referente ao treino das features e do target."
      ]
    },
    {
      "cell_type": "code",
      "execution_count": null,
      "metadata": {
        "id": "LEGNIcZZiCeV"
      },
      "outputs": [],
      "source": [
        "# Treinar o modelo\n"
      ]
    },
    {
      "cell_type": "markdown",
      "metadata": {
        "id": "rBsfuUZXvh7v"
      },
      "source": [
        "13) Qual é o percentual de acertos do modelo? Utilize a partição dedicada à testes para isso (é perto de 100%)"
      ]
    },
    {
      "cell_type": "code",
      "execution_count": null,
      "metadata": {
        "colab": {
          "base_uri": "https://localhost:8080/"
        },
        "id": "hcv2hoiwiGXg",
        "outputId": "00d41439-1c2c-41e2-d334-1574cc36ccb4"
      },
      "outputs": [],
      "source": [
        "# Percentual de acertos\n"
      ]
    },
    {
      "cell_type": "markdown",
      "metadata": {
        "id": "wYKqpiY4v5Uo"
      },
      "source": [
        "14) Gere a matriz de confusão para mostrar as classificações incorretas. Use a forma de texto ou gere um gráfico para isso."
      ]
    },
    {
      "cell_type": "code",
      "execution_count": null,
      "metadata": {
        "colab": {
          "base_uri": "https://localhost:8080/",
          "height": 300
        },
        "id": "eklFAVrSke9r",
        "outputId": "33ab46e4-41ff-44e1-dcc7-35c49cad9d90"
      },
      "outputs": [],
      "source": [
        "from sklearn.metrics import plot_confusion_matrix\n",
        "\n"
      ]
    },
    {
      "cell_type": "markdown",
      "metadata": {
        "id": "EG6kDXXKxUD9"
      },
      "source": [
        "**Dica:** Use os dados segmentados para validar o modelo. Depois de confirmar que o modelo atende as espectativas, use a totalidade dos dados para o treinamento. Assim um novo dado a ser checadovai contemplar um modelo treinado com a integralidade dos dados."
      ]
    }
  ],
  "metadata": {
    "colab": {
      "collapsed_sections": [],
      "name": "Enzo Lab4.ipynb",
      "provenance": []
    },
    "kernelspec": {
      "display_name": "Python 3.10.6 64-bit (windows store)",
      "language": "python",
      "name": "python3"
    },
    "language_info": {
      "codemirror_mode": {
        "name": "ipython",
        "version": 3
      },
      "file_extension": ".py",
      "mimetype": "text/x-python",
      "name": "python",
      "nbconvert_exporter": "python",
      "pygments_lexer": "ipython3",
      "version": "3.10.6"
    },
    "vscode": {
      "interpreter": {
        "hash": "19f8edf9f3d47184070387e5526ef4245906fb1893b7f74c12e591a863440618"
      }
    }
  },
  "nbformat": 4,
  "nbformat_minor": 0
}
